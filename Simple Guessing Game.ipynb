{
 "cells": [
  {
   "cell_type": "code",
   "execution_count": 5,
   "id": "9100f663-72a7-43bd-8ad1-12ece8fd48dc",
   "metadata": {},
   "outputs": [
    {
     "name": "stdout",
     "output_type": "stream",
     "text": [
      "========== Welcome to Guess the Number Game ==========\n"
     ]
    },
    {
     "name": "stdin",
     "output_type": "stream",
     "text": [
      "Enter the starting range:  1\n",
      "Enter the ending range:  5\n",
      "Enter the maximum number of attempts:  1\n",
      "Attempt 1: Guess the number between 1 and 5:  3\n"
     ]
    },
    {
     "name": "stdout",
     "output_type": "stream",
     "text": [
      "Too high! Try again.\n",
      "You Lose! The correct number was 1.\n"
     ]
    }
   ],
   "source": [
    "# Assignment 1\n",
    "# Simple Guessing Game\n",
    "\n",
    "import random\n",
    "\n",
    "print('========== Welcome to Guess the Number Game ==========')\n",
    "\n",
    "# Step 1: Set the Inputs\n",
    "\n",
    "start = int(input('Enter the starting range: '))\n",
    "end = int(input('Enter the ending range: '))\n",
    "max_attempts = int(input('Enter the maximum number of attempts: '))\n",
    "\n",
    "# Step 2: Random Number Generate\n",
    "\n",
    "secret_num = random.randint(start, end)\n",
    "\n",
    "# Step 3: Game loop\n",
    "\n",
    "attempts = 0\n",
    "win = False\n",
    "\n",
    "while attempts < max_attempts:\n",
    "    guess = int(input(f'Attempt {attempts+1}: Guess the number between {start} and {end}: '))\n",
    "    attempts = attempts + 1\n",
    "    \n",
    "    if guess == secret_num:\n",
    "        print(f'You Win! You guessed it in {attempts} attempts.')\n",
    "        win = True\n",
    "        break\n",
    "    elif guess < secret_num:\n",
    "        print('Too low! Try again.')\n",
    "    else:\n",
    "        print('Too high! Try again.')\n",
    "        \n",
    "# Step 4: If user didn’t guess\n",
    "\n",
    "if not win:\n",
    "    print(f'You Lose! The correct number was {secret_num}.')"
   ]
  },
  {
   "cell_type": "code",
   "execution_count": null,
   "id": "7d53bc46-44f2-4726-afc1-0055dc734235",
   "metadata": {},
   "outputs": [],
   "source": []
  }
 ],
 "metadata": {
  "kernelspec": {
   "display_name": "Python 3 (ipykernel)",
   "language": "python",
   "name": "python3"
  },
  "language_info": {
   "codemirror_mode": {
    "name": "ipython",
    "version": 3
   },
   "file_extension": ".py",
   "mimetype": "text/x-python",
   "name": "python",
   "nbconvert_exporter": "python",
   "pygments_lexer": "ipython3",
   "version": "3.13.5"
  }
 },
 "nbformat": 4,
 "nbformat_minor": 5
}
